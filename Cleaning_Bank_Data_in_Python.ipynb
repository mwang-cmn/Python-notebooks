{
  "cells": [
    {
      "cell_type": "markdown",
      "metadata": {
        "id": "view-in-github",
        "colab_type": "text"
      },
      "source": [
        "<a href=\"https://colab.research.google.com/github/mwang-cmn/Python-notebooks/blob/main/Cleaning_Bank_Data_in_Python.ipynb\" target=\"_parent\"><img src=\"https://colab.research.google.com/assets/colab-badge.svg\" alt=\"Open In Colab\"/></a>"
      ]
    },
    {
      "source": [
        "# **Cleaning Bank Data in Python**\n",
        "\n",
        "Personal loans are a lucrative revenue stream for banks.\n",
        "\n",
        "In this project, I am working with a bank to clean and organise data collected during a recent marketing campaign. The campaign aimed to encourage customers to take out personal loans, and the bank plans to run more campaigns in the future. My role is to ensure the data meets their specified structure and formats, making it ready for use in a PostgreSQL database.\n",
        "\n",
        "I will process a supplied CSV file, \"**bank_marketing.csv**,\" by cleaning, reformatting, and splitting the data into three structured CSV files.\n",
        "This will allow the bank to store the cleaned data efficiently and seamlessly integrate future campaign data into their system.\n",
        "The three files should have the names and contents as outlined below:\n",
        "\n",
        "**client.csv**\n",
        "\n",
        "| column | data type | description | cleaning requirements |\n",
        "|--------|-----------|-------------|-----------------------|\n",
        "| `client_id` | `integer` | Client ID | N/A |\n",
        "| `age` | `integer` | Client's age in years | N/A |\n",
        "| `job` | `object` | Client's type of job | Change `\".\"` to `\"_\"` |\n",
        "| `marital` | `object` | Client's marital status | N/A |\n",
        "| `education` | `object` | Client's level of education | Change `\".\"` to `\"_\"` and `\"unknown\"` to `np.NaN` |\n",
        "| `credit_default` | `bool` | Whether the client's credit is in default | Convert to `boolean` data type:<br> `1` if `\"yes\"`, otherwise `0` |\n",
        "| `mortgage` | `bool` | Whether the client has an existing mortgage (housing loan) | Convert to boolean data type:<br> `1` if `\"yes\"`, otherwise `0` |\n",
        "\n",
        "<br>\n",
        "\n",
        "**campaign.csv**\n",
        "\n",
        "| column | data type | description | cleaning requirements |\n",
        "|--------|-----------|-------------|-----------------------|\n",
        "| `client_id` | `integer` | Client ID | N/A |\n",
        "| `number_contacts` | `integer` | Number of contact attempts to the client in the current campaign | N/A |\n",
        "| `contact_duration` | `integer` | Last contact duration in seconds | N/A |\n",
        "| `previous_campaign_contacts` | `integer` | Number of contact attempts to the client in the previous campaign | N/A |\n",
        "| `previous_outcome` | `bool` | Outcome of the previous campaign | Convert to boolean data type:<br> `1` if `\"success\"`, otherwise `0`. |\n",
        "| `campaign_outcome` | `bool` | Outcome of the current campaign | Convert to boolean data type:<br> `1` if `\"yes\"`, otherwise `0`. |\n",
        "| `last_contact_date` | `datetime` | Last date the client was contacted | Create from a combination of `day`, `month`, and a newly created `year` column (which should have a value of `2022`); <br> **Format =** `\"YYYY-MM-DD\"` |\n",
        "\n",
        "<br>\n",
        "\n",
        "**economics.csv**\n",
        "\n",
        "| column | data type | description | cleaning requirements |\n",
        "|--------|-----------|-------------|-----------------------|\n",
        "| `client_id` | `integer` | Client ID | N/A |\n",
        "| `cons_price_idx` | `float` | Consumer price index (monthly indicator) | N/A |\n",
        "| `euribor_three_months` | `float` | Euro Interbank Offered Rate (euribor) three-month rate (daily indicator) | N/A |"
      ],
      "metadata": {
        "id": "02077ee3-e1e4-4fc5-8de1-16e987afa5fb"
      },
      "id": "02077ee3-e1e4-4fc5-8de1-16e987afa5fb",
      "cell_type": "markdown"
    },
    {
      "source": [
        "import pandas as pd\n",
        "import numpy as np\n"
      ],
      "metadata": {
        "executionCancelledAt": null,
        "executionTime": 4459,
        "lastExecutedAt": 1748516754082,
        "lastScheduledRunId": null,
        "lastSuccessfullyExecutedCode": "import pandas as pd\nimport numpy as np\n",
        "lastExecutedByKernel": "0ad92dde-168e-4908-8cdf-7059693501c3",
        "id": "e2edad3c-8286-4983-b5b7-35d94fd78023"
      },
      "id": "e2edad3c-8286-4983-b5b7-35d94fd78023",
      "cell_type": "code",
      "execution_count": null,
      "outputs": []
    },
    {
      "source": [
        "df = pd.read_csv(\"bank_marketing.csv\")\n",
        "\n",
        "for col in [\"credit_default\", \"mortgage\", \"previous_outcome\", \"campaign_outcome\"]:\n",
        "    print(col)\n",
        "    print(\"--------------\")\n",
        "    print(df[col].value_counts())"
      ],
      "metadata": {
        "executionCancelledAt": null,
        "executionTime": 316,
        "lastExecutedAt": 1748516754400,
        "lastScheduledRunId": null,
        "lastSuccessfullyExecutedCode": "df = pd.read_csv(\"bank_marketing.csv\")\n\nfor col in [\"credit_default\", \"mortgage\", \"previous_outcome\", \"campaign_outcome\"]:\n    print(col)\n    print(\"--------------\")\n    print(df[col].value_counts())",
        "outputsMetadata": {
          "0": {
            "height": 500,
            "type": "stream"
          }
        },
        "lastExecutedByKernel": "0ad92dde-168e-4908-8cdf-7059693501c3",
        "id": "273d3770-7ce3-4af0-803a-367517b550b0",
        "outputId": "d9a11fe4-9996-40b7-dcd3-78b16a443d71"
      },
      "id": "273d3770-7ce3-4af0-803a-367517b550b0",
      "cell_type": "code",
      "execution_count": null,
      "outputs": [
        {
          "output_type": "stream",
          "name": "stdout",
          "text": "credit_default\n--------------\nno         32588\nunknown     8597\nyes            3\nName: credit_default, dtype: int64\nmortgage\n--------------\nyes        21576\nno         18622\nunknown      990\nName: mortgage, dtype: int64\nprevious_outcome\n--------------\nnonexistent    35563\nfailure         4252\nsuccess         1373\nName: previous_outcome, dtype: int64\ncampaign_outcome\n--------------\nno     36548\nyes     4640\nName: campaign_outcome, dtype: int64\n"
        }
      ]
    },
    {
      "source": [
        "df['education'].value_counts()"
      ],
      "metadata": {
        "executionCancelledAt": null,
        "executionTime": 48,
        "lastExecutedAt": 1748516754449,
        "lastExecutedByKernel": "0ad92dde-168e-4908-8cdf-7059693501c3",
        "lastScheduledRunId": null,
        "lastSuccessfullyExecutedCode": "df['education'].value_counts()",
        "outputsMetadata": {
          "0": {
            "height": 550,
            "type": "dataFrame",
            "tableState": {
              "customFilter": {
                "const": {
                  "type": "boolean",
                  "valid": true,
                  "value": true
                },
                "id": "4cab1313-46ff-420f-af85-fc7b12546566",
                "nodeType": "const"
              }
            }
          }
        },
        "id": "570d9bfb-03d6-475b-b6a1-52d586edb41c",
        "outputId": "9d639724-0376-40a2-8f8a-d9d40a32ca4a"
      },
      "cell_type": "code",
      "id": "570d9bfb-03d6-475b-b6a1-52d586edb41c",
      "outputs": [
        {
          "output_type": "execute_result",
          "data": {
            "application/com.datacamp.data-table.v2+json": {
              "table": {
                "schema": {
                  "fields": [
                    {
                      "name": "index",
                      "type": "string"
                    },
                    {
                      "name": "education",
                      "type": "integer"
                    }
                  ],
                  "primaryKey": [
                    "index"
                  ],
                  "pandas_version": "1.4.0"
                },
                "data": {
                  "index": [
                    "university.degree",
                    "high.school",
                    "basic.9y",
                    "professional.course",
                    "basic.4y",
                    "basic.6y",
                    "unknown",
                    "illiterate"
                  ],
                  "education": [
                    12168,
                    9515,
                    6045,
                    5243,
                    4176,
                    2292,
                    1731,
                    18
                  ]
                }
              },
              "total_rows": 8,
              "truncation_type": null
            },
            "text/plain": "university.degree      12168\nhigh.school             9515\nbasic.9y                6045\nprofessional.course     5243\nbasic.4y                4176\nbasic.6y                2292\nunknown                 1731\nilliterate                18\nName: education, dtype: int64"
          },
          "metadata": {
            "application/com.datacamp.data-table.v2+json": {
              "status": "success"
            }
          },
          "execution_count": 3
        }
      ],
      "execution_count": null
    },
    {
      "source": [
        "df.info()"
      ],
      "metadata": {
        "executionCancelledAt": null,
        "executionTime": 52,
        "lastExecutedAt": 1748516754501,
        "lastExecutedByKernel": "0ad92dde-168e-4908-8cdf-7059693501c3",
        "lastScheduledRunId": null,
        "lastSuccessfullyExecutedCode": "df.info()",
        "outputsMetadata": {
          "0": {
            "height": 500,
            "type": "stream"
          }
        },
        "id": "e26823ad-f3f8-41a3-bb81-b79f0b61f15c",
        "outputId": "58513044-0d4d-411a-ffde-cf679a47f0d7"
      },
      "cell_type": "code",
      "id": "e26823ad-f3f8-41a3-bb81-b79f0b61f15c",
      "outputs": [
        {
          "output_type": "stream",
          "name": "stdout",
          "text": "<class 'pandas.core.frame.DataFrame'>\nRangeIndex: 41188 entries, 0 to 41187\nData columns (total 16 columns):\n #   Column                      Non-Null Count  Dtype  \n---  ------                      --------------  -----  \n 0   client_id                   41188 non-null  int64  \n 1   age                         41188 non-null  int64  \n 2   job                         41188 non-null  object \n 3   marital                     41188 non-null  object \n 4   education                   41188 non-null  object \n 5   credit_default              41188 non-null  object \n 6   mortgage                    41188 non-null  object \n 7   month                       41188 non-null  object \n 8   day                         41188 non-null  int64  \n 9   contact_duration            41188 non-null  int64  \n 10  number_contacts             41188 non-null  int64  \n 11  previous_campaign_contacts  41188 non-null  int64  \n 12  previous_outcome            41188 non-null  object \n 13  cons_price_idx              41188 non-null  float64\n 14  euribor_three_months        41188 non-null  float64\n 15  campaign_outcome            41188 non-null  object \ndtypes: float64(2), int64(6), object(8)\nmemory usage: 5.0+ MB\n"
        }
      ],
      "execution_count": null
    },
    {
      "cell_type": "markdown",
      "source": [
        "### **Data Cleaning**  \n",
        "\n",
        "To ensure consistency and improve the quality of the dataset, I applied several data cleaning steps.  \n",
        "\n",
        "1. **Standardising Text Data:**  \n",
        "   - Replaced periods (`.`) in job and education entries with underscores (`_`) to maintain uniformity.  \n",
        "   - Capitalised month names for consistency in formatting.  \n",
        "\n",
        "2. **Handling Missing and Unknown Values:**  \n",
        "   - Converted instances of `\"unknown\"` in the education column to `NaN`, making it easier to handle missing data during analysis.  \n",
        "\n",
        "3. **Transforming Categorical Data:**  \n",
        "   - Converted `credit_default`, `mortgage`, `previous_outcome`, and `campaign_outcome` into boolean values (`True` or `False`).  \n",
        "   - Mapped `\"yes\"` entries to `1` and `\"no\"` entries to `0` for clearer representation in analyses.  \n",
        "   - Converted `\"success\"` in `previous_outcome` to `1` and other values to `0`, making it easier to assess past campaign results.  \n",
        "\n",
        "4. **Creating a Date Column:**  \n",
        "   - Added a new `year` column, setting its value to 2022 to ensure consistency.  \n",
        "   - Combined `day`, `month`, and `year` to create a proper `datetime` column (`last_contact_date`), which allows for easier time-based analysis."
      ],
      "metadata": {
        "id": "hhnYvPZjpLwo"
      },
      "id": "hhnYvPZjpLwo"
    },
    {
      "source": [
        "# Data cleaning\n",
        "df['job'] = df['job'].str.replace(\".\", \"_\")\n",
        "df['education'] = df['education'].str.replace(\".\", \"_\")\n",
        "df['education'] = df['education'].replace(\"unknown\",np.nan)\n",
        "df['credit_default'] = df['credit_default'].map(lambda x: 1 if x == \"yes\" else 0).astype('bool')\n",
        "df['mortgage'] = df['mortgage'].map(lambda x: 1 if x == \"yes\" else 0).astype('bool')\n",
        "df['previous_outcome'] = df['previous_outcome'].map(lambda x: 1 if x == \"success\" else 0).astype('bool')\n",
        "df['campaign_outcome'] = df['campaign_outcome'].map(lambda x: 1 if x == \"yes\" else 0).astype('bool')\n",
        "df['year'] = 2022\n",
        "df['month'] = df['month'].str.capitalize()\n",
        "df['last_contact_date'] = pd.to_datetime(df['year'].astype(str)+\"-\"+df['month'].astype(str)+\"-\"+df['day'].astype(str), format=\"%Y-%b-%d\")\n",
        "\n",
        "df.head(10)"
      ],
      "metadata": {
        "executionCancelledAt": null,
        "executionTime": 172,
        "lastExecutedAt": 1748516754673,
        "lastExecutedByKernel": "0ad92dde-168e-4908-8cdf-7059693501c3",
        "lastScheduledRunId": null,
        "lastSuccessfullyExecutedCode": "# Data cleaning\ndf['job'] = df['job'].str.replace(\".\", \"_\")\ndf['education'] = df['education'].str.replace(\".\", \"_\")\ndf['education'] = df['education'].replace(\"unknown\",np.nan)\ndf['credit_default'] = df['credit_default'].map(lambda x: 1 if x == \"yes\" else 0).astype('bool')\ndf['mortgage'] = df['mortgage'].map(lambda x: 1 if x == \"yes\" else 0).astype('bool')\ndf['previous_outcome'] = df['previous_outcome'].map(lambda x: 1 if x == \"success\" else 0).astype('bool')\ndf['campaign_outcome'] = df['campaign_outcome'].map(lambda x: 1 if x == \"yes\" else 0).astype('bool')\ndf['year'] = 2022\ndf['month'] = df['month'].str.capitalize()\ndf['last_contact_date'] = pd.to_datetime(df['year'].astype(str)+\"-\"+df['month'].astype(str)+\"-\"+df['day'].astype(str), format=\"%Y-%b-%d\")\n\ndf.head(10)",
        "outputsMetadata": {
          "0": {
            "height": 550,
            "type": "dataFrame",
            "tableState": {
              "customFilter": {
                "const": {
                  "type": "boolean",
                  "valid": true,
                  "value": true
                },
                "id": "4cab1313-46ff-420f-af85-fc7b12546566",
                "nodeType": "const"
              }
            }
          }
        },
        "id": "76c4da54-4dda-4c9a-923d-58b53f0c8f74",
        "outputId": "baa65c0f-e7fa-4d1f-8213-161188e7cf76"
      },
      "cell_type": "code",
      "id": "76c4da54-4dda-4c9a-923d-58b53f0c8f74",
      "outputs": [
        {
          "output_type": "execute_result",
          "data": {
            "application/com.datacamp.data-table.v2+json": {
              "table": {
                "schema": {
                  "fields": [
                    {
                      "name": "index",
                      "type": "integer"
                    },
                    {
                      "name": "client_id",
                      "type": "integer"
                    },
                    {
                      "name": "age",
                      "type": "integer"
                    },
                    {
                      "name": "job",
                      "type": "string"
                    },
                    {
                      "name": "marital",
                      "type": "string"
                    },
                    {
                      "name": "education",
                      "type": "string"
                    },
                    {
                      "name": "credit_default",
                      "type": "boolean"
                    },
                    {
                      "name": "mortgage",
                      "type": "boolean"
                    },
                    {
                      "name": "month",
                      "type": "string"
                    },
                    {
                      "name": "day",
                      "type": "integer"
                    },
                    {
                      "name": "contact_duration",
                      "type": "integer"
                    },
                    {
                      "name": "number_contacts",
                      "type": "integer"
                    },
                    {
                      "name": "previous_campaign_contacts",
                      "type": "integer"
                    },
                    {
                      "name": "previous_outcome",
                      "type": "boolean"
                    },
                    {
                      "name": "cons_price_idx",
                      "type": "number"
                    },
                    {
                      "name": "euribor_three_months",
                      "type": "number"
                    },
                    {
                      "name": "campaign_outcome",
                      "type": "boolean"
                    },
                    {
                      "name": "year",
                      "type": "integer"
                    },
                    {
                      "name": "last_contact_date",
                      "type": "datetime"
                    }
                  ],
                  "primaryKey": [
                    "index"
                  ],
                  "pandas_version": "1.4.0"
                },
                "data": {
                  "index": [
                    0,
                    1,
                    2,
                    3,
                    4,
                    5,
                    6,
                    7,
                    8,
                    9
                  ],
                  "client_id": [
                    0,
                    1,
                    2,
                    3,
                    4,
                    5,
                    6,
                    7,
                    8,
                    9
                  ],
                  "age": [
                    56,
                    57,
                    37,
                    40,
                    56,
                    45,
                    59,
                    41,
                    24,
                    25
                  ],
                  "job": [
                    "housemaid",
                    "services",
                    "services",
                    "admin_",
                    "services",
                    "services",
                    "admin_",
                    "blue-collar",
                    "technician",
                    "services"
                  ],
                  "marital": [
                    "married",
                    "married",
                    "married",
                    "married",
                    "married",
                    "married",
                    "married",
                    "married",
                    "single",
                    "single"
                  ],
                  "education": [
                    "basic_4y",
                    "high_school",
                    "high_school",
                    "basic_6y",
                    "high_school",
                    "basic_9y",
                    "professional_course",
                    null,
                    "professional_course",
                    "high_school"
                  ],
                  "credit_default": [
                    false,
                    false,
                    false,
                    false,
                    false,
                    false,
                    false,
                    false,
                    false,
                    false
                  ],
                  "mortgage": [
                    false,
                    false,
                    true,
                    false,
                    false,
                    false,
                    false,
                    false,
                    true,
                    true
                  ],
                  "month": [
                    "May",
                    "May",
                    "May",
                    "May",
                    "May",
                    "May",
                    "May",
                    "May",
                    "May",
                    "May"
                  ],
                  "day": [
                    13,
                    19,
                    23,
                    27,
                    3,
                    5,
                    3,
                    12,
                    21,
                    5
                  ],
                  "contact_duration": [
                    261,
                    149,
                    226,
                    151,
                    307,
                    198,
                    139,
                    217,
                    380,
                    50
                  ],
                  "number_contacts": [
                    1,
                    1,
                    1,
                    1,
                    1,
                    1,
                    1,
                    1,
                    1,
                    1
                  ],
                  "previous_campaign_contacts": [
                    0,
                    0,
                    0,
                    0,
                    0,
                    0,
                    0,
                    0,
                    0,
                    0
                  ],
                  "previous_outcome": [
                    false,
                    false,
                    false,
                    false,
                    false,
                    false,
                    false,
                    false,
                    false,
                    false
                  ],
                  "cons_price_idx": [
                    93.994,
                    93.994,
                    93.994,
                    93.994,
                    93.994,
                    93.994,
                    93.994,
                    93.994,
                    93.994,
                    93.994
                  ],
                  "euribor_three_months": [
                    4.857,
                    4.857,
                    4.857,
                    4.857,
                    4.857,
                    4.857,
                    4.857,
                    4.857,
                    4.857,
                    4.857
                  ],
                  "campaign_outcome": [
                    false,
                    false,
                    false,
                    false,
                    false,
                    false,
                    false,
                    false,
                    false,
                    false
                  ],
                  "year": [
                    2022,
                    2022,
                    2022,
                    2022,
                    2022,
                    2022,
                    2022,
                    2022,
                    2022,
                    2022
                  ],
                  "last_contact_date": [
                    "2022-05-13T00:00:00.000",
                    "2022-05-19T00:00:00.000",
                    "2022-05-23T00:00:00.000",
                    "2022-05-27T00:00:00.000",
                    "2022-05-03T00:00:00.000",
                    "2022-05-05T00:00:00.000",
                    "2022-05-03T00:00:00.000",
                    "2022-05-12T00:00:00.000",
                    "2022-05-21T00:00:00.000",
                    "2022-05-05T00:00:00.000"
                  ]
                }
              },
              "total_rows": 10,
              "truncation_type": null
            },
            "text/plain": "   client_id  age          job  ... campaign_outcome  year  last_contact_date\n0          0   56    housemaid  ...            False  2022         2022-05-13\n1          1   57     services  ...            False  2022         2022-05-19\n2          2   37     services  ...            False  2022         2022-05-23\n3          3   40       admin_  ...            False  2022         2022-05-27\n4          4   56     services  ...            False  2022         2022-05-03\n5          5   45     services  ...            False  2022         2022-05-05\n6          6   59       admin_  ...            False  2022         2022-05-03\n7          7   41  blue-collar  ...            False  2022         2022-05-12\n8          8   24   technician  ...            False  2022         2022-05-21\n9          9   25     services  ...            False  2022         2022-05-05\n\n[10 rows x 18 columns]",
            "text/html": "<div>\n<style scoped>\n    .dataframe tbody tr th:only-of-type {\n        vertical-align: middle;\n    }\n\n    .dataframe tbody tr th {\n        vertical-align: top;\n    }\n\n    .dataframe thead th {\n        text-align: right;\n    }\n</style>\n<table border=\"1\" class=\"dataframe\">\n  <thead>\n    <tr style=\"text-align: right;\">\n      <th></th>\n      <th>client_id</th>\n      <th>age</th>\n      <th>job</th>\n      <th>marital</th>\n      <th>education</th>\n      <th>credit_default</th>\n      <th>mortgage</th>\n      <th>month</th>\n      <th>day</th>\n      <th>contact_duration</th>\n      <th>number_contacts</th>\n      <th>previous_campaign_contacts</th>\n      <th>previous_outcome</th>\n      <th>cons_price_idx</th>\n      <th>euribor_three_months</th>\n      <th>campaign_outcome</th>\n      <th>year</th>\n      <th>last_contact_date</th>\n    </tr>\n  </thead>\n  <tbody>\n    <tr>\n      <th>0</th>\n      <td>0</td>\n      <td>56</td>\n      <td>housemaid</td>\n      <td>married</td>\n      <td>basic_4y</td>\n      <td>False</td>\n      <td>False</td>\n      <td>May</td>\n      <td>13</td>\n      <td>261</td>\n      <td>1</td>\n      <td>0</td>\n      <td>False</td>\n      <td>93.994</td>\n      <td>4.857</td>\n      <td>False</td>\n      <td>2022</td>\n      <td>2022-05-13</td>\n    </tr>\n    <tr>\n      <th>1</th>\n      <td>1</td>\n      <td>57</td>\n      <td>services</td>\n      <td>married</td>\n      <td>high_school</td>\n      <td>False</td>\n      <td>False</td>\n      <td>May</td>\n      <td>19</td>\n      <td>149</td>\n      <td>1</td>\n      <td>0</td>\n      <td>False</td>\n      <td>93.994</td>\n      <td>4.857</td>\n      <td>False</td>\n      <td>2022</td>\n      <td>2022-05-19</td>\n    </tr>\n    <tr>\n      <th>2</th>\n      <td>2</td>\n      <td>37</td>\n      <td>services</td>\n      <td>married</td>\n      <td>high_school</td>\n      <td>False</td>\n      <td>True</td>\n      <td>May</td>\n      <td>23</td>\n      <td>226</td>\n      <td>1</td>\n      <td>0</td>\n      <td>False</td>\n      <td>93.994</td>\n      <td>4.857</td>\n      <td>False</td>\n      <td>2022</td>\n      <td>2022-05-23</td>\n    </tr>\n    <tr>\n      <th>3</th>\n      <td>3</td>\n      <td>40</td>\n      <td>admin_</td>\n      <td>married</td>\n      <td>basic_6y</td>\n      <td>False</td>\n      <td>False</td>\n      <td>May</td>\n      <td>27</td>\n      <td>151</td>\n      <td>1</td>\n      <td>0</td>\n      <td>False</td>\n      <td>93.994</td>\n      <td>4.857</td>\n      <td>False</td>\n      <td>2022</td>\n      <td>2022-05-27</td>\n    </tr>\n    <tr>\n      <th>4</th>\n      <td>4</td>\n      <td>56</td>\n      <td>services</td>\n      <td>married</td>\n      <td>high_school</td>\n      <td>False</td>\n      <td>False</td>\n      <td>May</td>\n      <td>3</td>\n      <td>307</td>\n      <td>1</td>\n      <td>0</td>\n      <td>False</td>\n      <td>93.994</td>\n      <td>4.857</td>\n      <td>False</td>\n      <td>2022</td>\n      <td>2022-05-03</td>\n    </tr>\n    <tr>\n      <th>5</th>\n      <td>5</td>\n      <td>45</td>\n      <td>services</td>\n      <td>married</td>\n      <td>basic_9y</td>\n      <td>False</td>\n      <td>False</td>\n      <td>May</td>\n      <td>5</td>\n      <td>198</td>\n      <td>1</td>\n      <td>0</td>\n      <td>False</td>\n      <td>93.994</td>\n      <td>4.857</td>\n      <td>False</td>\n      <td>2022</td>\n      <td>2022-05-05</td>\n    </tr>\n    <tr>\n      <th>6</th>\n      <td>6</td>\n      <td>59</td>\n      <td>admin_</td>\n      <td>married</td>\n      <td>professional_course</td>\n      <td>False</td>\n      <td>False</td>\n      <td>May</td>\n      <td>3</td>\n      <td>139</td>\n      <td>1</td>\n      <td>0</td>\n      <td>False</td>\n      <td>93.994</td>\n      <td>4.857</td>\n      <td>False</td>\n      <td>2022</td>\n      <td>2022-05-03</td>\n    </tr>\n    <tr>\n      <th>7</th>\n      <td>7</td>\n      <td>41</td>\n      <td>blue-collar</td>\n      <td>married</td>\n      <td>NaN</td>\n      <td>False</td>\n      <td>False</td>\n      <td>May</td>\n      <td>12</td>\n      <td>217</td>\n      <td>1</td>\n      <td>0</td>\n      <td>False</td>\n      <td>93.994</td>\n      <td>4.857</td>\n      <td>False</td>\n      <td>2022</td>\n      <td>2022-05-12</td>\n    </tr>\n    <tr>\n      <th>8</th>\n      <td>8</td>\n      <td>24</td>\n      <td>technician</td>\n      <td>single</td>\n      <td>professional_course</td>\n      <td>False</td>\n      <td>True</td>\n      <td>May</td>\n      <td>21</td>\n      <td>380</td>\n      <td>1</td>\n      <td>0</td>\n      <td>False</td>\n      <td>93.994</td>\n      <td>4.857</td>\n      <td>False</td>\n      <td>2022</td>\n      <td>2022-05-21</td>\n    </tr>\n    <tr>\n      <th>9</th>\n      <td>9</td>\n      <td>25</td>\n      <td>services</td>\n      <td>single</td>\n      <td>high_school</td>\n      <td>False</td>\n      <td>True</td>\n      <td>May</td>\n      <td>5</td>\n      <td>50</td>\n      <td>1</td>\n      <td>0</td>\n      <td>False</td>\n      <td>93.994</td>\n      <td>4.857</td>\n      <td>False</td>\n      <td>2022</td>\n      <td>2022-05-05</td>\n    </tr>\n  </tbody>\n</table>\n</div>"
          },
          "metadata": {
            "application/com.datacamp.data-table.v2+json": {
              "status": "success"
            }
          },
          "execution_count": 5
        }
      ],
      "execution_count": null
    },
    {
      "source": [
        "df.info()"
      ],
      "metadata": {
        "executionCancelledAt": null,
        "executionTime": 68,
        "lastExecutedAt": 1748516754741,
        "lastExecutedByKernel": "0ad92dde-168e-4908-8cdf-7059693501c3",
        "lastScheduledRunId": null,
        "lastSuccessfullyExecutedCode": "df.info()",
        "outputsMetadata": {
          "0": {
            "height": 525,
            "type": "stream"
          }
        },
        "id": "73c152d2-5b7f-4902-940c-773e9255d7cf",
        "outputId": "b3cc49dd-0576-46ab-da15-1980c54aba93"
      },
      "cell_type": "code",
      "id": "73c152d2-5b7f-4902-940c-773e9255d7cf",
      "outputs": [
        {
          "output_type": "stream",
          "name": "stdout",
          "text": "<class 'pandas.core.frame.DataFrame'>\nRangeIndex: 41188 entries, 0 to 41187\nData columns (total 18 columns):\n #   Column                      Non-Null Count  Dtype         \n---  ------                      --------------  -----         \n 0   client_id                   41188 non-null  int64         \n 1   age                         41188 non-null  int64         \n 2   job                         41188 non-null  object        \n 3   marital                     41188 non-null  object        \n 4   education                   39457 non-null  object        \n 5   credit_default              41188 non-null  bool          \n 6   mortgage                    41188 non-null  bool          \n 7   month                       41188 non-null  object        \n 8   day                         41188 non-null  int64         \n 9   contact_duration            41188 non-null  int64         \n 10  number_contacts             41188 non-null  int64         \n 11  previous_campaign_contacts  41188 non-null  int64         \n 12  previous_outcome            41188 non-null  bool          \n 13  cons_price_idx              41188 non-null  float64       \n 14  euribor_three_months        41188 non-null  float64       \n 15  campaign_outcome            41188 non-null  bool          \n 16  year                        41188 non-null  int64         \n 17  last_contact_date           41188 non-null  datetime64[ns]\ndtypes: bool(4), datetime64[ns](1), float64(2), int64(7), object(4)\nmemory usage: 4.6+ MB\n"
        }
      ],
      "execution_count": null
    },
    {
      "source": [
        "# Split the Dataframe to 3 datasets\n",
        "client = df[[\"client_id\", \"age\", \"job\", \"marital\", \"education\", \"credit_default\", \"mortgage\"]]\n",
        "campaign = df[[\"client_id\", \"contact_duration\", \"number_contacts\", \"previous_campaign_contacts\", \"previous_outcome\", \"campaign_outcome\", \"last_contact_date\"]]\n",
        "economics = df[[\"client_id\", \"cons_price_idx\", \"euribor_three_months\"]]"
      ],
      "metadata": {
        "executionCancelledAt": null,
        "executionTime": 47,
        "lastExecutedAt": 1748516754788,
        "lastExecutedByKernel": "0ad92dde-168e-4908-8cdf-7059693501c3",
        "lastScheduledRunId": null,
        "lastSuccessfullyExecutedCode": "client = df[[\"client_id\", \"age\", \"job\", \"marital\", \"education\", \"credit_default\", \"mortgage\"]]\ncampaign = df[[\"client_id\", \"contact_duration\", \"number_contacts\", \"previous_campaign_contacts\", \"previous_outcome\", \"campaign_outcome\", \"last_contact_date\"]]\neconomics = df[[\"client_id\", \"cons_price_idx\", \"euribor_three_months\"]]",
        "id": "54cb6edf-7ade-493e-963f-5bc1a4f5833e"
      },
      "cell_type": "code",
      "id": "54cb6edf-7ade-493e-963f-5bc1a4f5833e",
      "outputs": [],
      "execution_count": null
    },
    {
      "source": [
        "# Save to .csv formats\n",
        "client.to_csv(\"client.csv\", index=False)\n",
        "campaign.to_csv(\"campaign.csv\", index=False)\n",
        "economics.to_csv(\"economics.csv\", index=False)"
      ],
      "metadata": {
        "executionCancelledAt": null,
        "executionTime": 404,
        "lastExecutedAt": 1748516755193,
        "lastExecutedByKernel": "0ad92dde-168e-4908-8cdf-7059693501c3",
        "lastScheduledRunId": null,
        "lastSuccessfullyExecutedCode": "# Save to .csv formats\nclient.to_csv(\"client.csv\", index=False)\ncampaign.to_csv(\"campaign.csv\", index=False)\neconomics.to_csv(\"economics.csv\", index=False)",
        "id": "255b2464-e616-4171-b152-9b1ee14d1923"
      },
      "cell_type": "code",
      "id": "255b2464-e616-4171-b152-9b1ee14d1923",
      "outputs": [],
      "execution_count": null
    },
    {
      "cell_type": "markdown",
      "source": [
        "**Summary**\n",
        "\n",
        "This data cleaning process ensures that the bank’s marketing data is structured, accurate and ready for efficient storage in a PostgreSQL database. By standardising formats, handling missing values and transforming key variables, I have improved data consistency and usability. This will allow the bank to seamlessly integrate future campaign data and conduct more reliable analyses, leading to better decision-making."
      ],
      "metadata": {
        "id": "rL8IMdfTpwuB"
      },
      "id": "rL8IMdfTpwuB"
    },
    {
      "cell_type": "code",
      "source": [],
      "metadata": {
        "id": "vPxo8RPPp1n3"
      },
      "id": "vPxo8RPPp1n3",
      "execution_count": null,
      "outputs": []
    }
  ],
  "metadata": {
    "kernelspec": {
      "display_name": "Python 3 (ipykernel)",
      "language": "python",
      "name": "python3"
    },
    "language_info": {
      "name": "python",
      "version": "3.8.10",
      "mimetype": "text/x-python",
      "codemirror_mode": {
        "name": "ipython",
        "version": 3
      },
      "pygments_lexer": "ipython3",
      "nbconvert_exporter": "python",
      "file_extension": ".py"
    },
    "editor": "DataCamp Workspace",
    "colab": {
      "provenance": [],
      "include_colab_link": true
    }
  },
  "nbformat": 4,
  "nbformat_minor": 5
}